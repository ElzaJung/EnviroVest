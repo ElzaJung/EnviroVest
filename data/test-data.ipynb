{
 "cells": [
  {
   "cell_type": "code",
   "execution_count": 2,
   "metadata": {},
   "outputs": [],
   "source": [
    "import yfinance as yf\n",
    "import json"
   ]
  },
  {
   "cell_type": "code",
   "execution_count": 12,
   "metadata": {},
   "outputs": [
    {
     "data": {
      "text/plain": [
       "{'Dividend Date': datetime.date(2025, 3, 12),\n",
       " 'Ex-Dividend Date': datetime.date(2025, 5, 14),\n",
       " 'Earnings Date': [datetime.date(2025, 4, 23), datetime.date(2025, 4, 28)],\n",
       " 'Earnings High': 3.56,\n",
       " 'Earnings Low': 3.16,\n",
       " 'Earnings Average': 3.22552,\n",
       " 'Revenue High': 69897682310,\n",
       " 'Revenue Low': 67140000000,\n",
       " 'Revenue Average': 68532499090}"
      ]
     },
     "execution_count": 12,
     "metadata": {},
     "output_type": "execute_result"
    }
   ],
   "source": [
    "# Fetch data from yfinance\n",
    "dat = yf.Ticker(\"MSFT\")\n",
    "\n",
    "# # save all data to a json file\n",
    "# with open('dat.json', 'w') as f:\n",
    "#     # heading that says \"Company Info\"\n",
    "#     f.write('Company Info\\n')\n",
    "#     json.dump(dat.info, f)\n",
    "\n",
    "# # heading that says \"Calendar\"\n",
    "# f.write('Calendar\\n')\n",
    "dat.calendar\n",
    "\n",
    "# # heading that says \"Analyst Price Targets\"\n",
    "# f.write('Analyst Price Targets\\n')\n",
    "# dat.analyst_price_targets\n",
    "# # heading that says \"Quarterly Income Statement\"\n",
    "# f.write('Quarterly Income Statement\\n')\n",
    "# dat.quarterly_income_stmt\n",
    "# # heading that says \"History\"\n",
    "# f.write('History\\n')\n",
    "# dat.history(period='1mo')\n",
    "# dat.option_chain(dat.options[0]).calls"
   ]
  }
 ],
 "metadata": {
  "kernelspec": {
   "display_name": "env",
   "language": "python",
   "name": "python3"
  },
  "language_info": {
   "codemirror_mode": {
    "name": "ipython",
    "version": 3
   },
   "file_extension": ".py",
   "mimetype": "text/x-python",
   "name": "python",
   "nbconvert_exporter": "python",
   "pygments_lexer": "ipython3",
   "version": "3.13.0"
  }
 },
 "nbformat": 4,
 "nbformat_minor": 2
}
